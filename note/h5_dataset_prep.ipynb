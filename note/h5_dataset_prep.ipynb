{
 "cells": [
  {
   "cell_type": "code",
   "execution_count": 39,
   "metadata": {},
   "outputs": [],
   "source": [
    "import pandas as pd\n",
    "import numpy as np\n",
    "import h5py\n",
    "import gzip\n",
    "import numpy as np\n",
    "import random\n",
    "\n",
    "from tqdm import tqdm\n",
    "from Bio import SeqIO"
   ]
  },
  {
   "cell_type": "code",
   "execution_count": 52,
   "metadata": {},
   "outputs": [],
   "source": [
    "a2i = dict(zip('ACDEFGHIKLMNPQRSTVWY', range(20)))\n",
    "replace_dict = {\n",
    "    'X': 'ACDEFGHIKLMNPQRSTVWY',\n",
    "    'B': 'DN',\n",
    "    'Z': 'EQ',\n",
    "    'J': 'IL',\n",
    "}"
   ]
  },
  {
   "cell_type": "code",
   "execution_count": null,
   "metadata": {},
   "outputs": [
    {
     "name": "stderr",
     "output_type": "stream",
     "text": [
      " 63%|██████▎   | 34091011/54465398 [09:03<03:33, 95230.68it/s] "
     ]
    }
   ],
   "source": [
    "with h5py.File('../data/uniref50.h5', 'w') as f:\n",
    "    seq_group = f.create_group('seq')\n",
    "    dataset = []\n",
    "    for r in tqdm(SeqIO.parse('../data/uniref50.fasta', 'fasta'), total=54465398):       \n",
    "        dataset.append(str(r.seq).upper())\n",
    "    seq_group.create_dataset('data', data=dataset)"
   ]
  },
  {
   "cell_type": "code",
   "execution_count": 57,
   "metadata": {},
   "outputs": [],
   "source": [
    "import random"
   ]
  },
  {
   "cell_type": "code",
   "execution_count": 58,
   "metadata": {},
   "outputs": [],
   "source": [
    "random.shuffle(dataset)"
   ]
  },
  {
   "cell_type": "code",
   "execution_count": 60,
   "metadata": {},
   "outputs": [],
   "source": [
    "with h5py.File('../data/uniref50.h5', 'w') as f:\n",
    "    f.create_dataset('seq', data=dataset)"
   ]
  },
  {
   "cell_type": "code",
   "execution_count": 71,
   "metadata": {},
   "outputs": [
    {
     "name": "stdout",
     "output_type": "stream",
     "text": [
      "54465398\n"
     ]
    }
   ],
   "source": [
    "with h5py.File('../data/uniref50.h5') as f:\n",
    "    print(len(f['seq']))"
   ]
  }
 ],
 "metadata": {
  "kernelspec": {
   "display_name": "dohoon",
   "language": "python",
   "name": "dohoon"
  },
  "language_info": {
   "codemirror_mode": {
    "name": "ipython",
    "version": 3
   },
   "file_extension": ".py",
   "mimetype": "text/x-python",
   "name": "python",
   "nbconvert_exporter": "python",
   "pygments_lexer": "ipython3",
   "version": "3.9.13"
  }
 },
 "nbformat": 4,
 "nbformat_minor": 4
}
