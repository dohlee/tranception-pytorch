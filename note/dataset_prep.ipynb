{
 "cells": [
  {
   "cell_type": "code",
   "execution_count": 1,
   "metadata": {},
   "outputs": [],
   "source": [
    "import pandas as pd\n",
    "import numpy as np\n",
    "\n",
    "from Bio import SeqIO"
   ]
  },
  {
   "cell_type": "code",
   "execution_count": 25,
   "metadata": {},
   "outputs": [
    {
     "name": "stderr",
     "output_type": "stream",
     "text": [
      "2it [00:00,  7.63it/s]"
     ]
    },
    {
     "name": "stdout",
     "output_type": "stream",
     "text": [
      "UniRef50_A0A5A9P0L4 peptidylprolyl isomerase n=1 Tax=Triplophysa tibetana TaxID=1572043 RepID=A0A5A9P0L4_9TELE\n",
      "UniRef50_A0A410P257 Glycogen synthase n=2 Tax=Candidatus Velamenicoccus archaeovorus TaxID=1930593 RepID=A0A410P257_9BACT\n"
     ]
    },
    {
     "name": "stderr",
     "output_type": "stream",
     "text": [
      "6it [00:00, 12.15it/s]"
     ]
    },
    {
     "name": "stdout",
     "output_type": "stream",
     "text": [
      "UniRef50_A0A8J3NBY6 Gln_amidase domain-containing protein n=2 Tax=Actinocatenispora rupis TaxID=519421 RepID=A0A8J3NBY6_9ACTN\n",
      "UniRef50_Q8WZ42 Titin n=3053 Tax=cellular organisms TaxID=131567 RepID=TITIN_HUMAN\n",
      "UniRef50_A0A401TRQ8 Ig-like domain-containing protein (Fragment) n=2 Tax=Chiloscyllium TaxID=34767 RepID=A0A401TRQ8_CHIPU\n",
      "UniRef50_A0A8M1H889 titin isoform X1 n=214 Tax=cellular organisms TaxID=131567 RepID=A0A8M1H889_BETSP\n"
     ]
    },
    {
     "name": "stderr",
     "output_type": "stream",
     "text": [
      "8it [00:00, 11.37it/s]"
     ]
    },
    {
     "name": "stdout",
     "output_type": "stream",
     "text": [
      "UniRef50_A0A4U5TZD8 Titin n=1 Tax=Collichthys lucidus TaxID=240159 RepID=A0A4U5TZD8_COLLU\n",
      "UniRef50_K7G060 Titin n=25 Tax=Amniota TaxID=32524 RepID=K7G060_PELSI\n",
      "UniRef50_A0A8J1Y0H7 Ofus.G111214 protein n=2 Tax=Owenia fusiformis TaxID=6347 RepID=A0A8J1Y0H7_OWEFU\n"
     ]
    },
    {
     "name": "stderr",
     "output_type": "stream",
     "text": [
      "10it [00:00, 11.80it/s]"
     ]
    },
    {
     "name": "stdout",
     "output_type": "stream",
     "text": [
      "UniRef50_A0A1V4K6M4 Titin isoform E n=562 Tax=Aves TaxID=8782 RepID=A0A1V4K6M4_PATFA\n",
      "UniRef50_Q3ASY8 Parallel beta-helix repeat n=1 Tax=Chlorobium chlorochromatii (strain CaD3) TaxID=340177 RepID=Q3ASY8_CHLCH\n",
      "UniRef50_G5B0U1 Titin n=3 Tax=Eutheria TaxID=9347 RepID=G5B0U1_HETGA\n"
     ]
    },
    {
     "name": "stderr",
     "output_type": "stream",
     "text": [
      "13it [00:01, 12.01it/s]"
     ]
    },
    {
     "name": "stdout",
     "output_type": "stream",
     "text": [
      "UniRef50_A0A7J8JNF4 Titin n=389 Tax=Euteleostomi TaxID=117571 RepID=A0A7J8JNF4_ROUAE\n",
      "UniRef50_A0A8J6AGD6 Titin n=1 Tax=Galemys pyrenaicus TaxID=202257 RepID=A0A8J6AGD6_GALPY\n"
     ]
    },
    {
     "name": "stderr",
     "output_type": "stream",
     "text": [
      "17it [00:01, 12.50it/s]"
     ]
    },
    {
     "name": "stdout",
     "output_type": "stream",
     "text": [
      "UniRef50_A0A5E4B6R9 Titin n=5 Tax=Euarchontoglires TaxID=314146 RepID=A0A5E4B6R9_MARMO\n",
      "UniRef50_G3HAC6 Titin n=3 Tax=Boreoeutheria TaxID=1437010 RepID=G3HAC6_CRIGR\n",
      "UniRef50_A0A7K3XY34 MucBP domain-containing protein n=1 Tax=Eggerthellaceae bacterium zg-893 TaxID=2682778 RepID=A0A7K3XY34_9ACTN\n",
      "UniRef50_G1P5X9 Titin n=88 Tax=Amniota TaxID=32524 RepID=G1P5X9_MYOLU\n"
     ]
    },
    {
     "name": "stderr",
     "output_type": "stream",
     "text": [
      "22it [00:01, 14.96it/s]"
     ]
    },
    {
     "name": "stdout",
     "output_type": "stream",
     "text": [
      "UniRef50_UPI00140BD930 hypothetical protein n=1 Tax=Eggerthellaceae bacterium zg-886 TaxID=2682776 RepID=UPI00140BD930\n",
      "UniRef50_UPI0013ECD9F4 hypothetical protein n=2 Tax=unclassified Slackia TaxID=2685017 RepID=UPI0013ECD9F4\n",
      "UniRef50_A0A3N0YXI7 Titin n=4 Tax=Xenocypridinae TaxID=2743747 RepID=A0A3N0YXI7_ANAGA\n"
     ]
    },
    {
     "name": "stderr",
     "output_type": "stream",
     "text": [
      "26it [00:02, 15.77it/s]"
     ]
    },
    {
     "name": "stdout",
     "output_type": "stream",
     "text": [
      "UniRef50_UPI0004D06000 titin n=1 Tax=Galeopterus variegatus TaxID=482537 RepID=UPI0004D06000\n",
      "UniRef50_Q8WZ42-9 Isoform 9 of Titin n=164 Tax=Vertebrata TaxID=7742 RepID=Q8WZ42-9\n",
      "UniRef50_A5X6X5 Titin a n=35 Tax=Clupeocephala TaxID=186625 RepID=A5X6X5_DANRE\n",
      "UniRef50_A0A811LQK7 (pine wood nematode) hypothetical protein n=1 Tax=Bursaphelenchus xylophilus TaxID=6326 RepID=A0A811LQK7_BURXY\n"
     ]
    },
    {
     "name": "stderr",
     "output_type": "stream",
     "text": [
      "31it [00:02, 14.67it/s]"
     ]
    },
    {
     "name": "stdout",
     "output_type": "stream",
     "text": [
      "UniRef50_A0A8J7NXK8 TITIN protein (Fragment) n=1 Tax=Atractosteus spatula TaxID=7917 RepID=A0A8J7NXK8_ATRSP\n",
      "UniRef50_A0A1S3PNI2 titin-like isoform X1 n=140 Tax=Clupeocephala TaxID=186625 RepID=A0A1S3PNI2_SALSA\n",
      "UniRef50_F1R7N8 Titin, tandem duplicate 2 n=321 Tax=Euteleostomi TaxID=117571 RepID=F1R7N8_DANRE\n",
      "UniRef50_A0A212IW37 Cna B-type domain-containing protein n=1 Tax=uncultured Eubacteriales bacterium TaxID=172733 RepID=A0A212IW37_9FIRM\n"
     ]
    },
    {
     "name": "stderr",
     "output_type": "stream",
     "text": [
      "33it [00:02, 15.02it/s]"
     ]
    },
    {
     "name": "stdout",
     "output_type": "stream",
     "text": [
      "UniRef50_UPI00217F8ADC titin-like n=1 Tax=Patella vulgata TaxID=6465 RepID=UPI00217F8ADC\n",
      "UniRef50_A0A7R8YPT0 SEC14 domain and spectrin repeat-containing protein 1 n=2 Tax=Hermetia illucens TaxID=343691 RepID=A0A7R8YPT0_HERIL\n",
      "UniRef50_A0A830HJR9 Carrier domain-containing protein n=3 Tax=Pycnococcus provasolii TaxID=41880 RepID=A0A830HJR9_9CHLO\n"
     ]
    },
    {
     "name": "stderr",
     "output_type": "stream",
     "text": [
      "37it [00:02, 13.43it/s]"
     ]
    },
    {
     "name": "stdout",
     "output_type": "stream",
     "text": [
      "UniRef50_A0A7J6CSN4 Titin-like n=14 Tax=Euteleostomi TaxID=117571 RepID=A0A7J6CSN4_9TELE\n",
      "UniRef50_A0A8K9UVL8 Immunoglobulin I-set domain protein n=20 Tax=Bilateria TaxID=33213 RepID=A0A8K9UVL8_ONCMY\n",
      "UniRef50_A0A8K1FDS2 Peptidase S74 domain-containing protein n=1 Tax=Pythium oligandrum TaxID=41045 RepID=A0A8K1FDS2_PYTOL\n",
      "UniRef50_A0A6P8WC75 LOW QUALITY PROTEIN: titin n=6 Tax=Clupeocephala TaxID=186625 RepID=A0A6P8WC75_GYMAC\n"
     ]
    },
    {
     "name": "stderr",
     "output_type": "stream",
     "text": [
      "42it [00:03, 16.21it/s]"
     ]
    },
    {
     "name": "stdout",
     "output_type": "stream",
     "text": [
      "UniRef50_A0A8U1F5X7 titin n=3 Tax=Euteleosteomorpha TaxID=1489388 RepID=A0A8U1F5X7_SALNM\n",
      "UniRef50_UPI001409E3B0 hypothetical protein n=1 Tax=Eggerthellaceae bacterium zg-886 TaxID=2682776 RepID=UPI001409E3B0\n",
      "UniRef50_UPI0007AD5978 titin-like n=1 Tax=Sinocyclocheilus grahami TaxID=75366 RepID=UPI0007AD5978\n",
      "UniRef50_UPI00140B1678 hypothetical protein n=1 Tax=Eggerthellaceae bacterium zg-886 TaxID=2682776 RepID=UPI00140B1678\n"
     ]
    },
    {
     "name": "stderr",
     "output_type": "stream",
     "text": [
      "46it [00:03, 14.54it/s]"
     ]
    },
    {
     "name": "stdout",
     "output_type": "stream",
     "text": [
      "UniRef50_A0A6A4S650 Titin-like n=88 Tax=Clupeocephala TaxID=186625 RepID=A0A6A4S650_SCOMX\n",
      "UniRef50_UPI0013EA71A1 PASTA domain-containing protein n=2 Tax=unclassified Slackia TaxID=2685017 RepID=UPI0013EA71A1\n",
      "UniRef50_A0A7K3XWI8 PASTA domain-containing protein n=1 Tax=Eggerthellaceae bacterium zg-893 TaxID=2682778 RepID=A0A7K3XWI8_9ACTN\n"
     ]
    },
    {
     "name": "stderr",
     "output_type": "stream",
     "text": [
      "48it [00:03, 13.89it/s]"
     ]
    },
    {
     "name": "stdout",
     "output_type": "stream",
     "text": [
      "UniRef50_A0A812BEH1 Transmembrane protein n=1 Tax=Sepia pharaonis TaxID=158019 RepID=A0A812BEH1_SEPPH\n",
      "UniRef50_A0A5N0V103 SECA_MOTOR_DEAD domain-containing protein n=1 Tax=Amycolatopsis acidicola TaxID=2596893 RepID=A0A5N0V103_9PSEU\n",
      "UniRef50_A0A7J6CQJ1 peptidylprolyl isomerase n=74 Tax=Clupeocephala TaxID=186625 RepID=A0A7J6CQJ1_9TELE\n"
     ]
    },
    {
     "name": "stderr",
     "output_type": "stream",
     "text": [
      "52it [00:03, 13.65it/s]"
     ]
    },
    {
     "name": "stdout",
     "output_type": "stream",
     "text": [
      "UniRef50_A0A6N7YTZ9 Gln_amidase domain-containing protein (Fragment) n=1 Tax=Amycolatopsis pithecellobii TaxID=664692 RepID=A0A6N7YTZ9_9PSEU\n",
      "UniRef50_UPI001643D7A3 LOW QUALITY PROTEIN: titin-like n=2 Tax=Pseudocrenilabrinae TaxID=318546 RepID=UPI001643D7A3\n",
      "UniRef50_F6DA95 Filamentous hemagglutinin family outer membrane protein n=1 Tax=Thiomicrospira cyclica (strain DSM 14477 / JCM 11371 / ALM1) TaxID=717773 RepID=F6DA95_THICA\n"
     ]
    },
    {
     "name": "stderr",
     "output_type": "stream",
     "text": [
      "52it [00:03, 13.02it/s]"
     ]
    },
    {
     "name": "stdout",
     "output_type": "stream",
     "text": [
      "UniRef50_A5X6X6 Titin b n=7 Tax=Osteoglossocephalai TaxID=1489341 RepID=A5X6X6_DANRE\n"
     ]
    },
    {
     "name": "stderr",
     "output_type": "stream",
     "text": [
      "\n"
     ]
    }
   ],
   "source": [
    "import gzip\n",
    "import numpy as np\n",
    "import random\n",
    "\n",
    "from tqdm import tqdm\n",
    "\n",
    "a2i = dict(zip('ACDEFGHIKLMNPQRSTVWY', range(20)))\n",
    "replace_dict = {\n",
    "    'X': 'ACDEFGHIKLMNPQRSTVWY',\n",
    "    'B': 'DN',\n",
    "    'Z': 'EQ',\n",
    "    'J': 'IL',\n",
    "}\n",
    "\n",
    "def process_seq(seq, replace_dict):\n",
    "    return np.array([a2i[random.choice(replace_dict.get(a, a))] for a in seq])\n",
    "\n",
    "cnt = 0\n",
    "with gzip.open('../data/uniref50.fasta.gz', 'rt') as inFile:\n",
    "    for r in tqdm(SeqIO.parse(inFile, 'fasta')):\n",
    "        if any(a in 'OU' for a in r.seq) or r.seq.count('X') >= 2:\n",
    "            continue\n",
    "        \n",
    "        arr = process_seq(r.seq, replace_dict)\n",
    "        cnt += 1\n",
    "        \n",
    "        print(r.description)\n",
    "        if cnt == 50:\n",
    "            break\n"
   ]
  },
  {
   "cell_type": "code",
   "execution_count": 26,
   "metadata": {},
   "outputs": [],
   "source": [
    "import re"
   ]
  },
  {
   "cell_type": "code",
   "execution_count": 35,
   "metadata": {},
   "outputs": [],
   "source": [
    "from Bio.Seq import Seq"
   ]
  },
  {
   "cell_type": "code",
   "execution_count": 37,
   "metadata": {},
   "outputs": [
    {
     "data": {
      "text/plain": [
       "Seq('VVVAXA')"
      ]
     },
     "execution_count": 37,
     "metadata": {},
     "output_type": "execute_result"
    }
   ],
   "source": [
    "Seq('VVVAXA')"
   ]
  },
  {
   "cell_type": "code",
   "execution_count": 21,
   "metadata": {},
   "outputs": [
    {
     "data": {
      "text/plain": [
       "11068"
      ]
     },
     "execution_count": 21,
     "metadata": {},
     "output_type": "execute_result"
    }
   ],
   "source": [
    "len(r.seq)"
   ]
  }
 ],
 "metadata": {
  "kernelspec": {
   "display_name": "dohoon",
   "language": "python",
   "name": "dohoon"
  },
  "language_info": {
   "codemirror_mode": {
    "name": "ipython",
    "version": 3
   },
   "file_extension": ".py",
   "mimetype": "text/x-python",
   "name": "python",
   "nbconvert_exporter": "python",
   "pygments_lexer": "ipython3",
   "version": "3.9.13"
  }
 },
 "nbformat": 4,
 "nbformat_minor": 4
}
